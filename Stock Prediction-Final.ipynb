{
 "cells": [
  {
   "cell_type": "markdown",
   "metadata": {},
   "source": [
    "## ___<div align='center'>Stock Price Prediction using Machine Learning Algorithms</div>___\n",
    "\n",
    
   ]
  },
  {
   "cell_type": "code",
   "execution_count": 1,
   "metadata": {},
   "outputs": [],
   "source": [
    "import numpy as np\n",
    "import pandas as pd\n",
    "from sklearn.preprocessing import MinMaxScaler\n",
    "from sklearn.model_selection import train_test_split\n",
    "from sklearn import linear_model\n",
    "from sklearn.metrics import mean_squared_error\n",
    "import math"
   ]
  },
  {
   "cell_type": "code",
   "execution_count": 2,
   "metadata": {},
   "outputs": [
    {
     "data": {
      "text/html": [
       "<div>\n",
       "<style scoped>\n",
       "    .dataframe tbody tr th:only-of-type {\n",
       "        vertical-align: middle;\n",
       "    }\n",
       "\n",
       "    .dataframe tbody tr th {\n",
       "        vertical-align: top;\n",
       "    }\n",
       "\n",
       "    .dataframe thead th {\n",
       "        text-align: right;\n",
       "    }\n",
       "</style>\n",
       "<table border=\"1\" class=\"dataframe\">\n",
       "  <thead>\n",
       "    <tr style=\"text-align: right;\">\n",
       "      <th></th>\n",
       "      <th>Date</th>\n",
       "      <th>Open</th>\n",
       "      <th>High</th>\n",
       "      <th>Low</th>\n",
       "      <th>Close</th>\n",
       "      <th>Volume</th>\n",
       "    </tr>\n",
       "  </thead>\n",
       "  <tbody>\n",
       "    <tr>\n",
       "      <td>0</td>\n",
       "      <td>30-Jun-17</td>\n",
       "      <td>943.99</td>\n",
       "      <td>945.00</td>\n",
       "      <td>929.61</td>\n",
       "      <td>929.68</td>\n",
       "      <td>2287662</td>\n",
       "    </tr>\n",
       "    <tr>\n",
       "      <td>1</td>\n",
       "      <td>29-Jun-17</td>\n",
       "      <td>951.35</td>\n",
       "      <td>951.66</td>\n",
       "      <td>929.60</td>\n",
       "      <td>937.82</td>\n",
       "      <td>3206674</td>\n",
       "    </tr>\n",
       "    <tr>\n",
       "      <td>2</td>\n",
       "      <td>28-Jun-17</td>\n",
       "      <td>950.66</td>\n",
       "      <td>963.24</td>\n",
       "      <td>936.16</td>\n",
       "      <td>961.01</td>\n",
       "      <td>2745568</td>\n",
       "    </tr>\n",
       "    <tr>\n",
       "      <td>3</td>\n",
       "      <td>27-Jun-17</td>\n",
       "      <td>961.60</td>\n",
       "      <td>967.22</td>\n",
       "      <td>947.09</td>\n",
       "      <td>948.09</td>\n",
       "      <td>2443602</td>\n",
       "    </tr>\n",
       "    <tr>\n",
       "      <td>4</td>\n",
       "      <td>26-Jun-17</td>\n",
       "      <td>990.00</td>\n",
       "      <td>993.99</td>\n",
       "      <td>970.33</td>\n",
       "      <td>972.09</td>\n",
       "      <td>1517912</td>\n",
       "    </tr>\n",
       "  </tbody>\n",
       "</table>\n",
       "</div>"
      ],
      "text/plain": [
       "        Date    Open    High     Low   Close   Volume\n",
       "0  30-Jun-17  943.99  945.00  929.61  929.68  2287662\n",
       "1  29-Jun-17  951.35  951.66  929.60  937.82  3206674\n",
       "2  28-Jun-17  950.66  963.24  936.16  961.01  2745568\n",
       "3  27-Jun-17  961.60  967.22  947.09  948.09  2443602\n",
       "4  26-Jun-17  990.00  993.99  970.33  972.09  1517912"
      ]
     },
     "execution_count": 2,
     "metadata": {},
     "output_type": "execute_result"
    }
   ],
   "source": [
    "# Importing Data\n",
    "data = pd.read_csv(\"stock.csv\")\n",
    "data.head()"
   ]
  },
  {
   "cell_type": "code",
   "execution_count": 3,
   "metadata": {},
   "outputs": [
    {
     "data": {
      "text/plain": [
       "(3145, 6)"
      ]
     },
     "execution_count": 3,
     "metadata": {},
     "output_type": "execute_result"
    }
   ],
   "source": [
    "data.shape"
   ]
  },
  {
   "cell_type": "code",
   "execution_count": 4,
   "metadata": {},
   "outputs": [
    {
     "data": {
      "text/html": [
       "<div>\n",
       "<style scoped>\n",
       "    .dataframe tbody tr th:only-of-type {\n",
       "        vertical-align: middle;\n",
       "    }\n",
       "\n",
       "    .dataframe tbody tr th {\n",
       "        vertical-align: top;\n",
       "    }\n",
       "\n",
       "    .dataframe thead th {\n",
       "        text-align: right;\n",
       "    }\n",
       "</style>\n",
       "<table border=\"1\" class=\"dataframe\">\n",
       "  <thead>\n",
       "    <tr style=\"text-align: right;\">\n",
       "      <th></th>\n",
       "      <th>Open</th>\n",
       "      <th>High</th>\n",
       "      <th>Low</th>\n",
       "      <th>Close</th>\n",
       "      <th>Volume</th>\n",
       "    </tr>\n",
       "  </thead>\n",
       "  <tbody>\n",
       "    <tr>\n",
       "      <td>count</td>\n",
       "      <td>3145.000000</td>\n",
       "      <td>3145.000000</td>\n",
       "      <td>3145.000000</td>\n",
       "      <td>3145.000000</td>\n",
       "      <td>3.145000e+03</td>\n",
       "    </tr>\n",
       "    <tr>\n",
       "      <td>mean</td>\n",
       "      <td>382.514169</td>\n",
       "      <td>385.872099</td>\n",
       "      <td>378.737126</td>\n",
       "      <td>382.350248</td>\n",
       "      <td>4.205708e+06</td>\n",
       "    </tr>\n",
       "    <tr>\n",
       "      <td>std</td>\n",
       "      <td>213.520466</td>\n",
       "      <td>214.636421</td>\n",
       "      <td>212.113835</td>\n",
       "      <td>213.469899</td>\n",
       "      <td>3.878100e+06</td>\n",
       "    </tr>\n",
       "    <tr>\n",
       "      <td>min</td>\n",
       "      <td>87.740000</td>\n",
       "      <td>89.290000</td>\n",
       "      <td>86.370000</td>\n",
       "      <td>87.580000</td>\n",
       "      <td>5.211410e+05</td>\n",
       "    </tr>\n",
       "    <tr>\n",
       "      <td>25%</td>\n",
       "      <td>232.380000</td>\n",
       "      <td>234.890000</td>\n",
       "      <td>230.400000</td>\n",
       "      <td>232.440000</td>\n",
       "      <td>1.889613e+06</td>\n",
       "    </tr>\n",
       "    <tr>\n",
       "      <td>50%</td>\n",
       "      <td>296.280000</td>\n",
       "      <td>298.520000</td>\n",
       "      <td>293.640000</td>\n",
       "      <td>296.050000</td>\n",
       "      <td>2.811069e+06</td>\n",
       "    </tr>\n",
       "    <tr>\n",
       "      <td>75%</td>\n",
       "      <td>544.000000</td>\n",
       "      <td>548.220000</td>\n",
       "      <td>539.850000</td>\n",
       "      <td>543.650000</td>\n",
       "      <td>5.232088e+06</td>\n",
       "    </tr>\n",
       "    <tr>\n",
       "      <td>max</td>\n",
       "      <td>1005.490000</td>\n",
       "      <td>1008.610000</td>\n",
       "      <td>996.620000</td>\n",
       "      <td>1004.280000</td>\n",
       "      <td>4.118289e+07</td>\n",
       "    </tr>\n",
       "  </tbody>\n",
       "</table>\n",
       "</div>"
      ],
      "text/plain": [
       "              Open         High          Low        Close        Volume\n",
       "count  3145.000000  3145.000000  3145.000000  3145.000000  3.145000e+03\n",
       "mean    382.514169   385.872099   378.737126   382.350248  4.205708e+06\n",
       "std     213.520466   214.636421   212.113835   213.469899  3.878100e+06\n",
       "min      87.740000    89.290000    86.370000    87.580000  5.211410e+05\n",
       "25%     232.380000   234.890000   230.400000   232.440000  1.889613e+06\n",
       "50%     296.280000   298.520000   293.640000   296.050000  2.811069e+06\n",
       "75%     544.000000   548.220000   539.850000   543.650000  5.232088e+06\n",
       "max    1005.490000  1008.610000   996.620000  1004.280000  4.118289e+07"
      ]
     },
     "execution_count": 4,
     "metadata": {},
     "output_type": "execute_result"
    }
   ],
   "source": [
    "data.describe()"
   ]
  },
  {
   "cell_type": "markdown",
   "metadata": {},
   "source": [
    "### Pre-Processing "
   ]
  },
  {
   "cell_type": "markdown",
   "metadata": {},
   "source": [
    "##### Handling Null Values"
   ]
  },
  {
   "cell_type": "code",
   "execution_count": 5,
   "metadata": {},
   "outputs": [
    {
     "data": {
      "text/plain": [
       "Date      0\n",
       "Open      0\n",
       "High      0\n",
       "Low       0\n",
       "Close     0\n",
       "Volume    0\n",
       "dtype: int64"
      ]
     },
     "execution_count": 5,
     "metadata": {},
     "output_type": "execute_result"
    }
   ],
   "source": [
    "# Handling Null Values\n",
    "data.isnull().sum()"
   ]
  },
  {
   "cell_type": "markdown",
   "metadata": {},
   "source": [
    "##### Nomalizing Dataset"
   ]
  },
  {
   "cell_type": "code",
   "execution_count": 6,
   "metadata": {},
   "outputs": [],
   "source": [
    "# Initialize a scaler, then apply it to the features\n",
    "scaler = MinMaxScaler()\n",
    "numerical = ['Open', 'Close', 'Volume']\n",
    "data[numerical] = scaler.fit_transform(data[numerical])\n"
   ]
  },
  {
   "cell_type": "code",
   "execution_count": 7,
   "metadata": {},
   "outputs": [
    {
     "data": {
      "text/html": [
       "<div>\n",
       "<style scoped>\n",
       "    .dataframe tbody tr th:only-of-type {\n",
       "        vertical-align: middle;\n",
       "    }\n",
       "\n",
       "    .dataframe tbody tr th {\n",
       "        vertical-align: top;\n",
       "    }\n",
       "\n",
       "    .dataframe thead th {\n",
       "        text-align: right;\n",
       "    }\n",
       "</style>\n",
       "<table border=\"1\" class=\"dataframe\">\n",
       "  <thead>\n",
       "    <tr style=\"text-align: right;\">\n",
       "      <th></th>\n",
       "      <th>Date</th>\n",
       "      <th>Open</th>\n",
       "      <th>High</th>\n",
       "      <th>Low</th>\n",
       "      <th>Close</th>\n",
       "      <th>Volume</th>\n",
       "    </tr>\n",
       "  </thead>\n",
       "  <tbody>\n",
       "    <tr>\n",
       "      <td>0</td>\n",
       "      <td>30-Jun-17</td>\n",
       "      <td>0.932988</td>\n",
       "      <td>945.00</td>\n",
       "      <td>929.61</td>\n",
       "      <td>0.918621</td>\n",
       "      <td>0.043444</td>\n",
       "    </tr>\n",
       "    <tr>\n",
       "      <td>1</td>\n",
       "      <td>29-Jun-17</td>\n",
       "      <td>0.941008</td>\n",
       "      <td>951.66</td>\n",
       "      <td>929.60</td>\n",
       "      <td>0.927501</td>\n",
       "      <td>0.066046</td>\n",
       "    </tr>\n",
       "    <tr>\n",
       "      <td>2</td>\n",
       "      <td>28-Jun-17</td>\n",
       "      <td>0.940256</td>\n",
       "      <td>963.24</td>\n",
       "      <td>936.16</td>\n",
       "      <td>0.952798</td>\n",
       "      <td>0.054706</td>\n",
       "    </tr>\n",
       "    <tr>\n",
       "      <td>3</td>\n",
       "      <td>27-Jun-17</td>\n",
       "      <td>0.952177</td>\n",
       "      <td>967.22</td>\n",
       "      <td>947.09</td>\n",
       "      <td>0.938704</td>\n",
       "      <td>0.047279</td>\n",
       "    </tr>\n",
       "    <tr>\n",
       "      <td>4</td>\n",
       "      <td>26-Jun-17</td>\n",
       "      <td>0.983122</td>\n",
       "      <td>993.99</td>\n",
       "      <td>970.33</td>\n",
       "      <td>0.964885</td>\n",
       "      <td>0.024514</td>\n",
       "    </tr>\n",
       "    <tr>\n",
       "      <td>...</td>\n",
       "      <td>...</td>\n",
       "      <td>...</td>\n",
       "      <td>...</td>\n",
       "      <td>...</td>\n",
       "      <td>...</td>\n",
       "      <td>...</td>\n",
       "    </tr>\n",
       "    <tr>\n",
       "      <td>3140</td>\n",
       "      <td>7-Jan-05</td>\n",
       "      <td>0.008368</td>\n",
       "      <td>97.22</td>\n",
       "      <td>94.48</td>\n",
       "      <td>0.010298</td>\n",
       "      <td>0.224905</td>\n",
       "    </tr>\n",
       "    <tr>\n",
       "      <td>3141</td>\n",
       "      <td>6-Jan-05</td>\n",
       "      <td>0.010874</td>\n",
       "      <td>98.05</td>\n",
       "      <td>93.95</td>\n",
       "      <td>0.007407</td>\n",
       "      <td>0.242701</td>\n",
       "    </tr>\n",
       "    <tr>\n",
       "      <td>3142</td>\n",
       "      <td>5-Jan-05</td>\n",
       "      <td>0.009894</td>\n",
       "      <td>98.55</td>\n",
       "      <td>96.21</td>\n",
       "      <td>0.010112</td>\n",
       "      <td>0.189820</td>\n",
       "    </tr>\n",
       "    <tr>\n",
       "      <td>3143</td>\n",
       "      <td>4-Jan-05</td>\n",
       "      <td>0.014198</td>\n",
       "      <td>101.57</td>\n",
       "      <td>96.84</td>\n",
       "      <td>0.010658</td>\n",
       "      <td>0.325644</td>\n",
       "    </tr>\n",
       "    <tr>\n",
       "      <td>3144</td>\n",
       "      <td>3-Jan-05</td>\n",
       "      <td>0.012051</td>\n",
       "      <td>101.92</td>\n",
       "      <td>97.83</td>\n",
       "      <td>0.015141</td>\n",
       "      <td>0.377248</td>\n",
       "    </tr>\n",
       "  </tbody>\n",
       "</table>\n",
       "<p>3145 rows × 6 columns</p>\n",
       "</div>"
      ],
      "text/plain": [
       "           Date      Open    High     Low     Close    Volume\n",
       "0     30-Jun-17  0.932988  945.00  929.61  0.918621  0.043444\n",
       "1     29-Jun-17  0.941008  951.66  929.60  0.927501  0.066046\n",
       "2     28-Jun-17  0.940256  963.24  936.16  0.952798  0.054706\n",
       "3     27-Jun-17  0.952177  967.22  947.09  0.938704  0.047279\n",
       "4     26-Jun-17  0.983122  993.99  970.33  0.964885  0.024514\n",
       "...         ...       ...     ...     ...       ...       ...\n",
       "3140   7-Jan-05  0.008368   97.22   94.48  0.010298  0.224905\n",
       "3141   6-Jan-05  0.010874   98.05   93.95  0.007407  0.242701\n",
       "3142   5-Jan-05  0.009894   98.55   96.21  0.010112  0.189820\n",
       "3143   4-Jan-05  0.014198  101.57   96.84  0.010658  0.325644\n",
       "3144   3-Jan-05  0.012051  101.92   97.83  0.015141  0.377248\n",
       "\n",
       "[3145 rows x 6 columns]"
      ]
     },
     "execution_count": 7,
     "metadata": {},
     "output_type": "execute_result"
    }
   ],
   "source": [
    "data"
   ]
  },
  {
   "cell_type": "markdown",
   "metadata": {},
   "source": [
    "##### Extracing Features"
   ]
  },
  {
   "cell_type": "code",
   "execution_count": 8,
   "metadata": {},
   "outputs": [],
   "source": [
    "# Define columns of data to keep from historical stock data\n",
    "item = []\n",
    "open = []\n",
    "close = []\n",
    "volume = []\n",
    "\n",
    "# Loop through the stock data objects backwards and store factors we want to keep\n",
    "i_counter = 0\n",
    "for i in range(len(data) - 1, -1, -1):\n",
    "    item.append(i_counter)\n",
    "    open.append(data['Open'][i])\n",
    "    close.append(data['Close'][i])\n",
    "    volume.append(data['Volume'][i])\n",
    "    i_counter += 1\n",
    "\n",
    "# Create a data frame for stock data\n",
    "stocks = pd.DataFrame()\n",
    "\n",
    "# Add factors to data frame\n",
    "stocks['Item'] = item\n",
    "stocks['Open'] = open\n",
    "stocks['Close'] = pd.to_numeric(close)\n",
    "stocks['Volume'] = pd.to_numeric(volume)"
   ]
  },
  {
   "cell_type": "code",
   "execution_count": 9,
   "metadata": {},
   "outputs": [
    {
     "data": {
      "text/html": [
       "<div>\n",
       "<style scoped>\n",
       "    .dataframe tbody tr th:only-of-type {\n",
       "        vertical-align: middle;\n",
       "    }\n",
       "\n",
       "    .dataframe tbody tr th {\n",
       "        vertical-align: top;\n",
       "    }\n",
       "\n",
       "    .dataframe thead th {\n",
       "        text-align: right;\n",
       "    }\n",
       "</style>\n",
       "<table border=\"1\" class=\"dataframe\">\n",
       "  <thead>\n",
       "    <tr style=\"text-align: right;\">\n",
       "      <th></th>\n",
       "      <th>Item</th>\n",
       "      <th>Open</th>\n",
       "      <th>Close</th>\n",
       "      <th>Volume</th>\n",
       "    </tr>\n",
       "  </thead>\n",
       "  <tbody>\n",
       "    <tr>\n",
       "      <td>0</td>\n",
       "      <td>0</td>\n",
       "      <td>0.012051</td>\n",
       "      <td>0.015141</td>\n",
       "      <td>0.377248</td>\n",
       "    </tr>\n",
       "    <tr>\n",
       "      <td>1</td>\n",
       "      <td>1</td>\n",
       "      <td>0.014198</td>\n",
       "      <td>0.010658</td>\n",
       "      <td>0.325644</td>\n",
       "    </tr>\n",
       "    <tr>\n",
       "      <td>2</td>\n",
       "      <td>2</td>\n",
       "      <td>0.009894</td>\n",
       "      <td>0.010112</td>\n",
       "      <td>0.189820</td>\n",
       "    </tr>\n",
       "    <tr>\n",
       "      <td>3</td>\n",
       "      <td>3</td>\n",
       "      <td>0.010874</td>\n",
       "      <td>0.007407</td>\n",
       "      <td>0.242701</td>\n",
       "    </tr>\n",
       "    <tr>\n",
       "      <td>4</td>\n",
       "      <td>4</td>\n",
       "      <td>0.008368</td>\n",
       "      <td>0.010298</td>\n",
       "      <td>0.224905</td>\n",
       "    </tr>\n",
       "    <tr>\n",
       "      <td>...</td>\n",
       "      <td>...</td>\n",
       "      <td>...</td>\n",
       "      <td>...</td>\n",
       "      <td>...</td>\n",
       "    </tr>\n",
       "    <tr>\n",
       "      <td>3140</td>\n",
       "      <td>3140</td>\n",
       "      <td>0.983122</td>\n",
       "      <td>0.964885</td>\n",
       "      <td>0.024514</td>\n",
       "    </tr>\n",
       "    <tr>\n",
       "      <td>3141</td>\n",
       "      <td>3141</td>\n",
       "      <td>0.952177</td>\n",
       "      <td>0.938704</td>\n",
       "      <td>0.047279</td>\n",
       "    </tr>\n",
       "    <tr>\n",
       "      <td>3142</td>\n",
       "      <td>3142</td>\n",
       "      <td>0.940256</td>\n",
       "      <td>0.952798</td>\n",
       "      <td>0.054706</td>\n",
       "    </tr>\n",
       "    <tr>\n",
       "      <td>3143</td>\n",
       "      <td>3143</td>\n",
       "      <td>0.941008</td>\n",
       "      <td>0.927501</td>\n",
       "      <td>0.066046</td>\n",
       "    </tr>\n",
       "    <tr>\n",
       "      <td>3144</td>\n",
       "      <td>3144</td>\n",
       "      <td>0.932988</td>\n",
       "      <td>0.918621</td>\n",
       "      <td>0.043444</td>\n",
       "    </tr>\n",
       "  </tbody>\n",
       "</table>\n",
       "<p>3145 rows × 4 columns</p>\n",
       "</div>"
      ],
      "text/plain": [
       "      Item      Open     Close    Volume\n",
       "0        0  0.012051  0.015141  0.377248\n",
       "1        1  0.014198  0.010658  0.325644\n",
       "2        2  0.009894  0.010112  0.189820\n",
       "3        3  0.010874  0.007407  0.242701\n",
       "4        4  0.008368  0.010298  0.224905\n",
       "...    ...       ...       ...       ...\n",
       "3140  3140  0.983122  0.964885  0.024514\n",
       "3141  3141  0.952177  0.938704  0.047279\n",
       "3142  3142  0.940256  0.952798  0.054706\n",
       "3143  3143  0.941008  0.927501  0.066046\n",
       "3144  3144  0.932988  0.918621  0.043444\n",
       "\n",
       "[3145 rows x 4 columns]"
      ]
     },
     "execution_count": 9,
     "metadata": {},
     "output_type": "execute_result"
    }
   ],
   "source": [
    "stocks"
   ]
  },
  {
   "cell_type": "markdown",
   "metadata": {},
   "source": [
    "## Training Model"
   ]
  },
  {
   "cell_type": "code",
   "execution_count": 10,
   "metadata": {},
   "outputs": [],
   "source": [
    "def scale_range(x, input_range, target_range):\n",
    "    range = [np.amin(x), np.amax(x)]\n",
    "    x_std = (x - input_range[0]) / (1.0*(input_range[1] - input_range[0]))\n",
    "    x_scaled = x_std * (1.0*(target_range[1] - target_range[0])) + target_range[0]\n",
    "    return x_scaled, range\n"
   ]
  },
  {
   "cell_type": "code",
   "execution_count": 11,
   "metadata": {},
   "outputs": [],
   "source": [
    "feature = []\n",
    "label = []\n",
    "\n",
    "# Convert dataframe columns to numpy arrays for scikit learn\n",
    "for index, row in stocks.iterrows():\n",
    "    # print([np.array(row['Item'])])\n",
    "    feature.append([(row['Item'])])\n",
    "    label.append([(row['Close'])])\n",
    "\n",
    "# Regularize the feature and target arrays and store min/max of input data for rescaling later\n",
    "feature_bounds = [min(feature), max(feature)]\n",
    "feature_bounds = [feature_bounds[0][0], feature_bounds[1][0]]\n",
    "label_bounds = [min(label), max(label)]\n",
    "label_bounds = [label_bounds[0][0], label_bounds[1][0]]\n",
    "\n",
    "feature_scaled, feature_range = scale_range(np.array(feature), input_range=feature_bounds, target_range=[-1.0, 1.0])\n",
    "label_scaled, label_range = scale_range(np.array(label), input_range=label_bounds, target_range=[-1.0, 1.0])\n",
    "\n",
    "# Define Test/Train Split 80/20\n",
    "split = .315\n",
    "split = int(math.floor(len(stocks['Item']) * split))\n",
    "\n",
    "# Set up training and test sets\n",
    "X_train = feature_scaled[:-split]\n",
    "X_test = feature_scaled[-split:]\n",
    "\n",
    "y_train = label_scaled[:-split]\n",
    "y_test = label_scaled[-split:]\n"
   ]
  },
  {
   "cell_type": "code",
   "execution_count": 12,
   "metadata": {},
   "outputs": [
    {
     "name": "stdout",
     "output_type": "stream",
     "text": [
      "x_train (2155, 1)\n",
      "y_train (2155, 1)\n",
      "x_test (990, 1)\n",
      "y_test (990, 1)\n"
     ]
    }
   ],
   "source": [
    "print(\"x_train\", X_train.shape)\n",
    "print(\"y_train\", y_train.shape)\n",
    "print(\"x_test\", X_test.shape)\n",
    "print(\"y_test\", y_test.shape)"
   ]
  },
  {
   "cell_type": "code",
   "execution_count": 13,
   "metadata": {},
   "outputs": [],
   "source": [
    "def build_model(X, y):\n",
    "    linear_mod = linear_model.LinearRegression()  # defining the linear regression model\n",
    "    X = np.reshape(X, (X.shape[0], 1))\n",
    "    y = np.reshape(y, (y.shape[0], 1))\n",
    "    linear_mod.fit(X, y)  # fitting the data points in the model\n",
    "\n",
    "    return linear_mod\n",
    "\n",
    "\n",
    "def predict_prices(model, x, label_range):\n",
    "    x = np.reshape(x, (x.shape[0], 1))\n",
    "    predicted_price = model.predict(x)\n",
    "    predictions_rescaled, re_range = scale_range(predicted_price, input_range=[-1.0, 1.0], target_range=label_range)\n",
    "\n",
    "    return predictions_rescaled.flatten()"
   ]
  },
  {
   "cell_type": "code",
   "execution_count": 14,
   "metadata": {},
   "outputs": [],
   "source": [
    "model = build_model(X_train,y_train)"
   ]
  },
  {
   "cell_type": "code",
   "execution_count": 15,
   "metadata": {},
   "outputs": [],
   "source": [
    "predictions = predict_prices(model,X_test, label_range)"
   ]
  },
  {
   "cell_type": "code",
   "execution_count": 18,
   "metadata": {},
   "outputs": [
    {
     "data": {
      "image/png": "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\n",
      "text/plain": [
       "<Figure size 1440x720 with 1 Axes>"
      ]
     },
     "metadata": {
      "needs_background": "light"
     },
     "output_type": "display_data"
    }
   ],
   "source": [
    "import matplotlib.pyplot as plt\n",
    "plt.rcParams['figure.figsize'] = (20,10)\n",
    "\n",
    "\n",
    "fig = plt.figure()\n",
    "ax = fig.add_subplot(111)\n",
    "\n",
    "# Add labels\n",
    "plt.ylabel(\"Price USD\")\n",
    "plt.xlabel(\"Trading Days\")\n",
    "\n",
    "# Plot actual and predicted close values\n",
    "plt.plot(y_test, '#00FF00', label='Adjusted Close')\n",
    "plt.plot(predictions, '#0000FF', label='Predicted Close')\n",
    "\n",
    "# Set title\n",
    "ax.set_title(\"Actual vs Prediction\")\n",
    "ax.legend(loc='upper left')\n",
    "\n",
    "plt.show()"
   ]
  },
  {
   "cell_type": "code",
   "execution_count": 19,
   "metadata": {},
   "outputs": [
    {
     "name": "stdout",
     "output_type": "stream",
     "text": [
      "Train Score: 0.1852 MSE (0.4303 RMSE)\n",
      "Test Score: 0.08133781 MSE (0.28519784 RMSE)\n"
     ]
    }
   ],
   "source": [
    "# Calculating mean squared error(MSE) to calculate error rate\n",
    "\n",
    "trainScore = mean_squared_error(X_train, y_train)\n",
    "print('Train Score: %.4f MSE (%.4f RMSE)' % (trainScore, math.sqrt(trainScore)))\n",
    "\n",
    "testScore = mean_squared_error(predictions, y_test)\n",
    "print('Test Score: %.8f MSE (%.8f RMSE)' % (testScore, math.sqrt(testScore)))"
   ]
  }
 ],
 "metadata": {
  "kernelspec": {
   "display_name": "Python 3",
   "language": "python",
   "name": "python3"
  },
  "language_info": {
   "codemirror_mode": {
    "name": "ipython",
    "version": 3
   },
   "file_extension": ".py",
   "mimetype": "text/x-python",
   "name": "python",
   "nbconvert_exporter": "python",
   "pygments_lexer": "ipython3",
   "version": "3.7.4"
  }
 },
 "nbformat": 4,
 "nbformat_minor": 4
}
